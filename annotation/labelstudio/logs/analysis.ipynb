{
 "cells": [
  {
   "cell_type": "code",
   "execution_count": 11,
   "id": "initial_id",
   "metadata": {
    "collapsed": true,
    "ExecuteTime": {
     "end_time": "2025-03-05T20:45:11.220275Z",
     "start_time": "2025-03-05T20:45:11.215663Z"
    }
   },
   "outputs": [],
   "source": [
    "import pandas as pd\n",
    "from sklearn.metrics import confusion_matrix, classification_report\n"
   ]
  },
  {
   "cell_type": "code",
   "execution_count": 18,
   "outputs": [],
   "source": [
    "df = pd.read_csv(\"prediction.csv\", index_col=False)\n",
    "target_names = ['inflation-cause-dominant', 'inflation-related', 'non-inflation-related']\n"
   ],
   "metadata": {
    "collapsed": false,
    "ExecuteTime": {
     "end_time": "2025-03-05T20:50:00.936250Z",
     "start_time": "2025-03-05T20:50:00.918630Z"
    }
   },
   "id": "ee6c96bdc46deddd"
  },
  {
   "cell_type": "code",
   "execution_count": 25,
   "outputs": [
    {
     "data": {
      "text/plain": "array([[12, 12,  1],\n       [14, 14,  7],\n       [ 1,  4, 33]])"
     },
     "execution_count": 25,
     "metadata": {},
     "output_type": "execute_result"
    }
   ],
   "source": [
    "confusion_matrix(df[\"label\"], df[\"prediction\"], labels=target_names)"
   ],
   "metadata": {
    "collapsed": false,
    "ExecuteTime": {
     "end_time": "2025-03-05T20:50:40.089075Z",
     "start_time": "2025-03-05T20:50:40.085404Z"
    }
   },
   "id": "229884e09a82b1e4"
  },
  {
   "cell_type": "code",
   "execution_count": 22,
   "outputs": [
    {
     "name": "stdout",
     "output_type": "stream",
     "text": [
      "                          precision    recall  f1-score   support\n",
      "\n",
      "inflation-cause-dominant       0.44      0.48      0.46        25\n",
      "       inflation-related       0.47      0.40      0.43        35\n",
      "   non-inflation-related       0.80      0.87      0.84        38\n",
      "\n",
      "                accuracy                           0.60        98\n",
      "               macro avg       0.57      0.58      0.58        98\n",
      "            weighted avg       0.59      0.60      0.60        98\n"
     ]
    }
   ],
   "source": [
    "print(classification_report(df[\"label\"], df[\"prediction\"], target_names=target_names))"
   ],
   "metadata": {
    "collapsed": false,
    "ExecuteTime": {
     "end_time": "2025-03-05T20:50:21.537801Z",
     "start_time": "2025-03-05T20:50:21.522458Z"
    }
   },
   "id": "b7c292bbb5eec2f"
  },
  {
   "cell_type": "code",
   "execution_count": 38,
   "outputs": [],
   "source": [
    "def get_by_label_distribution(df, label_distribution):\n",
    "    target_columns = [\"annotator_5\", \"annotator_7\", \"annotator_8\"]\n",
    "    # Get unique labels from the dataset\n",
    "    unique_labels = df[target_columns].values.flatten()\n",
    "    unique_labels = list(set(unique_labels))  # Get all possible label categories\n",
    "    \n",
    "    # Convert each row into a distribution of label occurrences\n",
    "    distribution_counts = df[target_columns].apply(lambda row: tuple(row.value_counts().reindex(unique_labels, fill_value=0).values), axis=1)\n",
    "    \n",
    "    # Filter rows where the label distribution matches the allowed ones\n",
    "    filtered_df = df[distribution_counts.isin(label_distribution)]\n",
    "    \n",
    "    return filtered_df\n",
    "    \n"
   ],
   "metadata": {
    "collapsed": false,
    "ExecuteTime": {
     "end_time": "2025-03-05T21:03:54.069306Z",
     "start_time": "2025-03-05T21:03:54.062459Z"
    }
   },
   "id": "8e08ab856984b0bd"
  },
  {
   "cell_type": "code",
   "execution_count": 39,
   "outputs": [
    {
     "data": {
      "text/plain": "                                                 text  \\\n5   UPDATE: Euro-Zone Jan Services PMI 57.9 Vs 57....   \n9   Discount Rate Cut Shows Fed&apos;s Concern Ove...   \n15  Carolina Freight 3rd Qtr Net 21c A Shr Vs 25c\\...   \n20  Energy Dept. Sees 5% Yearly Oil Price Increase...   \n51  Japan Central Bank Chief Apologizes Over Infla...   \n57  War in Ukraine Is Already Taking Its Toll on G...   \n70  Australia Employment/Analysts -2: Wage Index D...   \n73  German Consumer Confidence Is Expected to Cont...   \n93  CBO Increases FY92 Budget Deficit Estimate To ...   \n96  WSJ(4/23) Philippines Pressed To Rethink Rice ...   \n\n                 annotator_5               annotator_7            annotator_8  \\\n5   inflation-cause-dominant     non-inflation-related      inflation-related   \n9      non-inflation-related  inflation-cause-dominant  non-inflation-related   \n15         inflation-related  inflation-cause-dominant  non-inflation-related   \n20  inflation-cause-dominant     non-inflation-related  non-inflation-related   \n51  inflation-cause-dominant         inflation-related  non-inflation-related   \n57  inflation-cause-dominant         inflation-related  non-inflation-related   \n70  inflation-cause-dominant         inflation-related  non-inflation-related   \n73         inflation-related  inflation-cause-dominant  non-inflation-related   \n93  inflation-cause-dominant         inflation-related  non-inflation-related   \n96  inflation-cause-dominant     non-inflation-related  non-inflation-related   \n\n                    label                prediction  \n5       inflation-related  inflation-cause-dominant  \n9   non-inflation-related         inflation-related  \n15      inflation-related     non-inflation-related  \n20  non-inflation-related     non-inflation-related  \n51      inflation-related  inflation-cause-dominant  \n57      inflation-related         inflation-related  \n70      inflation-related     non-inflation-related  \n73      inflation-related  inflation-cause-dominant  \n93      inflation-related         inflation-related  \n96  non-inflation-related     non-inflation-related  ",
      "text/html": "<div>\n<style scoped>\n    .dataframe tbody tr th:only-of-type {\n        vertical-align: middle;\n    }\n\n    .dataframe tbody tr th {\n        vertical-align: top;\n    }\n\n    .dataframe thead th {\n        text-align: right;\n    }\n</style>\n<table border=\"1\" class=\"dataframe\">\n  <thead>\n    <tr style=\"text-align: right;\">\n      <th></th>\n      <th>text</th>\n      <th>annotator_5</th>\n      <th>annotator_7</th>\n      <th>annotator_8</th>\n      <th>label</th>\n      <th>prediction</th>\n    </tr>\n  </thead>\n  <tbody>\n    <tr>\n      <th>5</th>\n      <td>UPDATE: Euro-Zone Jan Services PMI 57.9 Vs 57....</td>\n      <td>inflation-cause-dominant</td>\n      <td>non-inflation-related</td>\n      <td>inflation-related</td>\n      <td>inflation-related</td>\n      <td>inflation-cause-dominant</td>\n    </tr>\n    <tr>\n      <th>9</th>\n      <td>Discount Rate Cut Shows Fed&amp;apos;s Concern Ove...</td>\n      <td>non-inflation-related</td>\n      <td>inflation-cause-dominant</td>\n      <td>non-inflation-related</td>\n      <td>non-inflation-related</td>\n      <td>inflation-related</td>\n    </tr>\n    <tr>\n      <th>15</th>\n      <td>Carolina Freight 3rd Qtr Net 21c A Shr Vs 25c\\...</td>\n      <td>inflation-related</td>\n      <td>inflation-cause-dominant</td>\n      <td>non-inflation-related</td>\n      <td>inflation-related</td>\n      <td>non-inflation-related</td>\n    </tr>\n    <tr>\n      <th>20</th>\n      <td>Energy Dept. Sees 5% Yearly Oil Price Increase...</td>\n      <td>inflation-cause-dominant</td>\n      <td>non-inflation-related</td>\n      <td>non-inflation-related</td>\n      <td>non-inflation-related</td>\n      <td>non-inflation-related</td>\n    </tr>\n    <tr>\n      <th>51</th>\n      <td>Japan Central Bank Chief Apologizes Over Infla...</td>\n      <td>inflation-cause-dominant</td>\n      <td>inflation-related</td>\n      <td>non-inflation-related</td>\n      <td>inflation-related</td>\n      <td>inflation-cause-dominant</td>\n    </tr>\n    <tr>\n      <th>57</th>\n      <td>War in Ukraine Is Already Taking Its Toll on G...</td>\n      <td>inflation-cause-dominant</td>\n      <td>inflation-related</td>\n      <td>non-inflation-related</td>\n      <td>inflation-related</td>\n      <td>inflation-related</td>\n    </tr>\n    <tr>\n      <th>70</th>\n      <td>Australia Employment/Analysts -2: Wage Index D...</td>\n      <td>inflation-cause-dominant</td>\n      <td>inflation-related</td>\n      <td>non-inflation-related</td>\n      <td>inflation-related</td>\n      <td>non-inflation-related</td>\n    </tr>\n    <tr>\n      <th>73</th>\n      <td>German Consumer Confidence Is Expected to Cont...</td>\n      <td>inflation-related</td>\n      <td>inflation-cause-dominant</td>\n      <td>non-inflation-related</td>\n      <td>inflation-related</td>\n      <td>inflation-cause-dominant</td>\n    </tr>\n    <tr>\n      <th>93</th>\n      <td>CBO Increases FY92 Budget Deficit Estimate To ...</td>\n      <td>inflation-cause-dominant</td>\n      <td>inflation-related</td>\n      <td>non-inflation-related</td>\n      <td>inflation-related</td>\n      <td>inflation-related</td>\n    </tr>\n    <tr>\n      <th>96</th>\n      <td>WSJ(4/23) Philippines Pressed To Rethink Rice ...</td>\n      <td>inflation-cause-dominant</td>\n      <td>non-inflation-related</td>\n      <td>non-inflation-related</td>\n      <td>non-inflation-related</td>\n      <td>non-inflation-related</td>\n    </tr>\n  </tbody>\n</table>\n</div>"
     },
     "execution_count": 39,
     "metadata": {},
     "output_type": "execute_result"
    }
   ],
   "source": [
    "# define label distribution by count (n_inflation_cause_dominant, n_inflation_related, n_non_inflation_related)\n",
    "label_distribution = {(1,1,1), (1,0,2)}\n",
    "filtered_df = get_by_label_distribution(df, label_distribution)\n",
    "filtered_df\n",
    "\n"
   ],
   "metadata": {
    "collapsed": false,
    "ExecuteTime": {
     "end_time": "2025-03-05T21:03:54.712698Z",
     "start_time": "2025-03-05T21:03:54.708198Z"
    }
   },
   "id": "a3722d0900697e38"
  },
  {
   "cell_type": "code",
   "execution_count": null,
   "outputs": [],
   "source": [],
   "metadata": {
    "collapsed": false
   },
   "id": "c39e46abbff9c86e"
  }
 ],
 "metadata": {
  "kernelspec": {
   "display_name": "Python 3",
   "language": "python",
   "name": "python3"
  },
  "language_info": {
   "codemirror_mode": {
    "name": "ipython",
    "version": 2
   },
   "file_extension": ".py",
   "mimetype": "text/x-python",
   "name": "python",
   "nbconvert_exporter": "python",
   "pygments_lexer": "ipython2",
   "version": "2.7.6"
  }
 },
 "nbformat": 4,
 "nbformat_minor": 5
}
