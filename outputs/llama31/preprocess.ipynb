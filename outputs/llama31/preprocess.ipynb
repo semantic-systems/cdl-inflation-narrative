{
 "cells": [
  {
   "cell_type": "code",
   "execution_count": 1,
   "id": "d0b9b66a-3ca7-43f5-bfb2-b80273d18c63",
   "metadata": {},
   "outputs": [],
   "source": [
    "import pandas as pd\n",
    "from lxml import etree\n"
   ]
  },
  {
   "cell_type": "code",
   "execution_count": 2,
   "id": "b336f296-09eb-408a-9463-2de63907d5c7",
   "metadata": {},
   "outputs": [
    {
     "name": "stdout",
     "output_type": "stream",
     "text": [
      "39783\n"
     ]
    }
   ],
   "source": [
    "df = pd.read_csv(\"has_cause_df.csv\")\n",
    "print(len(df))"
   ]
  },
  {
   "cell_type": "code",
   "execution_count": null,
   "id": "f00f0dcd-a8e9-4d4e-aa8c-9e74fa79ec06",
   "metadata": {},
   "outputs": [],
   "source": []
  },
  {
   "cell_type": "code",
   "execution_count": 22,
   "id": "45cb1ad7-8155-4194-b2b3-da26b0c50ff8",
   "metadata": {},
   "outputs": [
    {
     "name": "stdout",
     "output_type": "stream",
     "text": [
      "39783\n"
     ]
    }
   ],
   "source": [
    "narratives = []\n",
    "word_counts = []\n",
    "headlines = []\n",
    "final_df = df\n",
    "sampled_df = df#.sample(n=9000)\n",
    "for i, string in enumerate(sampled_df.body.values):\n",
    "    tree = etree.fromstring(string)\n",
    "    notags = etree.tostring(tree, encoding='utf8', method='text')\n",
    "    #if len(notags.split()) < 700:\n",
    "    word_counts.append(len(notags.split()))\n",
    "    narratives.append(notags)\n",
    "        \n",
    "    headlines.append(sampled_df.headline.values[i])\n",
    "final_df.body = narratives  \n",
    "print(len(narratives))\n"
   ]
  },
  {
   "cell_type": "code",
   "execution_count": 23,
   "id": "aabcecdf-0295-4f0f-847d-86feabc836c3",
   "metadata": {
    "scrolled": true
   },
   "outputs": [
    {
     "data": {
      "text/plain": [
       "array([b'\\n\\n \\n\\n  4th Qtr April 27: \\n\\n   1990          1989 \\n   Sales             $116,797,000  $104,640,000 \\n   Net income           6,597,000     7,014,000 \\n   Avg shares          31,986,937    32,112,260 \\n\\n  Shr ern (primary) \\n\\n   Net income                .21        .22 \\n\\n  Year: \\n\\n   Sales             $454,339,000  $419,529,000 \\n   Net income          27,745,000    30,663,000 \\n   Avg shares          31,986,937    32,112,260 \\n\\n  Shr ern (primary): \\n\\n   Net income                .87        .95 \\n\\n  The company attributed the decline in net income for the year to higher live hog costs, which decreased margins in the sausage segment. \\n\\n  The sales increase was the result of more restaurants in operation than a year ago, as well as higher wholesale prices charged for sausage products. \\n\\n  Restaurant segment net income increased to $5,300,000 or 17 cents a share in the quarter from $5,118,000 or 16 cents a year earlier.  For the year, it improved to $21,709,000 or 68 cents from $20,148,000 or 63 cents. \\n\\n  Sausage segment net income for the quarter declined to $1,297,000 or 4 cents from $1,896,000 or 6 cents. For the year, it declined to $6,036,000 or 19 cents from $10,515,000 or 32 cents. \\n\\n  -0- \\n\\n  Year-ago share earnings adjusted to reflect a 10% stock dividend paid in September 1989. \\n\\n  (END) Dow Jones Newswires\\n\\n  June 04, 1990 09:59 ET (13:59 GMT)\\n',\n",
       "       b'\\n\\n \\n\\n  \"Sellers have been getting killed.  All the Canadians, who are two-thirds of the North American market, are making no money because they\\'re selling at $525 (a ton) and that\\'s their cost to produce,\" said Mark Kurland, an analyst with Mabon, Nugent in New York. \\n\\n  Newsprint is now sold at about a 19 pc discount from the list price.  The increase raises actual transaction prices to about $555-560 a metric ton from about $525. \\n\\n  Newspaper companies have been stockpiling inventories of about 50 days in anticipation of a possible strike at Canadian mills, which have already begun to cut production. \\n\\n  The industry is closely watching talks that began Thursday between Montreal-based Stone Consolidated Inc.  and the Canadian Paperworkers Union, which is seeking wage increases of 8 pc a year in each of two years. \\n\\n  A strike at Stone, which would likely spread to the entire industry, would sharply curtail supplies.  It also could force the shutdown of some Canadian mills, which already face the prospect of a costly retooling from virgin pulp to recycled production. \\n\\n  \"The increase will go through for now.  If Stone settles, then newsprint purchasers will have the upper hand and it will probably argue against the increase holding,\" said Kurland. \\n\\n  (END) Dow Jones Newswires\\n\\n  June 04, 1990 15:07 ET (19:07 GMT)\\n',\n",
       "       b'\\n\\n \\n   By John Connor \\n   Dow Jones Staff Reporter \\n \\n\\n  WASHINGTON -DJ- Now back to the other summit -- the budget summit. \\n\\n  When last seen, the summiteers were still in what White House Budget Director Richard Darman calls their \"seminar\" mode, trying to assess the size of the deficit problem. \\n\\n  Sen. Phil Gramm, R-Texas, was heard to grumble shortly before Congress departed for its Memorial Day break that the summiteers up until that point hadn\\'t uttered a word about how to remedy the deficit problem. \\n\\n  This leisurely pace is part of a time-honored Washington tradition -- don\\'t do today what you can put off until tomorrow. \\n\\n  When the budget summit resumes Wednesday, there no doubt will be considerable talk about the need to shift into high gear, to start making some of the \"tough decisions\" that have been eluding policymakers here for a decade. \\n\\n  Not counting this week (it\\'s hard to hit the ground running after a vacation), Congress will be in session for three weeks before departing again for its Fourth of July break. Then, several weeks after returning from that break, Congress is slated to flee town for the month-long August recess. \\n\\n  Somewhere not too far down the road, Treasury will ask Congress to increase the present $3.12 trillion debt limit. People who follow such things on Capitol Hill see a short-term debt bill to assure that Treasury can get into September as the most likely outcome, and predict that action on a short-term debt bill could well be the last thing Congress does before the August recess. \\n\\n  While waiting for the summiteers to do whatever they\\'re going to do, there are signs financial market participants are turning their wandering gaze back to the fiscal policy situation. Witness the recent short-term market reaction to a newspaper article suggesting that $50 billion in \"found money\" was discovered laying around Washington. \\n\\n  David Blitzer, chief economist of Standard & Poor\\'s Corp., is among those who see budget concerns attracting more market attention in the period ahead.  \"At some point, the deficit will spook the market, sending yields climbing and prices tumbling,\" he said.  \"Other times, unfounded hopes for deficit cuts may rally bonds.\" \\n\\n  With some bond market participants complaining about things being too quiet these days, the budget summit at the least could provide fodder for traders. Should markets start to \"move\" on the comments and predictions of various budget summit participants, such motion could be related at least in part to the phenomenon discussed recently E. Gerald Corrigan, president of the Federal Reserve Bank of New York. \\n\\n  Citing \"excess capacity in large segments of banking and finance,\" Corrigan said the symptoms of this condition \"abound in razor-thin spreads, pinched margins and, perhaps especially, in the troublesome manner in which we see vast amounts of very short-term churning and trading in so many segments of financial markets.\" He said this situation seems, at times, \"to create a vested interest in volatility, since opportunities for trading profits at the level of the individual firm or individual trader seem greatest when swings in interest rates and exchange rates are also the greatest.\" \\n\\n  Still, as S&P\\'s Blitzer noted, \"the deficit is a real concern for the Treasury markets, which must deal with the additional supply of new issues and the increasing size of refundings.\" He further observed that raising working capital for the Resolution Trust Corp.  to bail out savings and loan associations adds to this burden.  Indeed, weekly Treasury bill offerings are now up to $17.2 billion. \\n\\n  (END) Dow Jones Newswires\\n\\n  June 05, 1990 10:30 ET (14:30 GMT)\\n',\n",
       "       b'\\n\\n \\n\\n  WASHINGTON -DJ- Federal Reserve Board Governor Edward Kelley, downplaying the likelihood of recession, said he is comfortable with the current \"moderately restrictive\" monetary policy. \\n\\n  Although there doesn\\'t appear to be any immediate danger of a sharp upswing in prices, the central bank needs to guard against creeping inflationary pressures lest they become embedded in the economy, he said. \\n\\n  \"I am comfortable with policy as we sit here today,\" Kelley said. He noted that experts tend to differ in their assessment of the nature of the central bank\\'s current stance, but said his personal description would be that it is \"probably moderately restrictive.\" \\n\\n  In an interview with Dow Jones Capital Markets Report, Kelley emphasized the underlying stability of the economy as it continues to undergo \"rolling readjustments\" by sector and by region of the country. The positive contribution to gross national product of the sectors that are doing well continues to exceed, on balance, those that aren\\'t, the official said. He termed the balance \"fairly close,\" however. \\n\\n  Kelley said recent statistics suggest to him that the overall U.S.  economy continues to expand slowly in the current quarter at about the same pace of the first three months. \\n\\n  The central banker, a businessman by profession, conceded that there is \"always the possibility\" the economy could slip into a recession.  \"But I don\\'t see that in the cards at this time and I don\\'t expect it,\" he said. \\n\\n  In the context of weighing the relative risks of recession versus inflation, Kelley was specifically asked to assess the significance of pronounced weakness in housing industry statistics, on one hand, and an upward trend in the employment cost index, on the other. \\n\\n  The official downplayed the significance of the recent decline in housing starts and single-family home sales to levels that prevailed around the end of the 1982 recession. While there may be \"some\" cyclical component to the decline, it is \"more demographically based than anything else,\" he said.  In addition, he continued, strong gains in real estate prices and construction costs in recent years have priced many buyers out of the market. \\n\\n  Asked if such considerations would tend to mitigate against the idea that the housing sector is currently sending a strong signal that the economy as a whole is headed for recession, Kelley replied: \"Exactly.\" \\n\\n  On the other hand, the Fed official said a 5.5% rise in the employment cost index for civilian workers in the 12 months ended March 1990, compared with a 5.0% rate of gain for all of 1989 and a 4.8% pace for the 12 months ended March 1989, was \"a disturbing trend.\" \\n\\n  \"That is a very potent underlying driver of the overall cost structure of our economy and I am concerned about that,\" he said. \\n\\n  Getting such costs down requires productivity improvements, and that is a task for individual companies, Kelley observed.  But the Fed and other policymakers have roles, too.  \"Hopefully, we can put in place macroeconomic policies that facilitate that process,\" the central bank governor said. \\n\\n  \"I think that the current inflationary risk is that we would permit ourselves to accept a slow creep,\" he said.  It is far better, he explained, to prevent creeping inflation from getting institutionalized in the economy in the first place than to try to reverse the process later. \\n\\n  Kelly said a fear on the part of some that inflationary creep is in fact taking hold is \"a legitimate concern.\" \\n\\n  He also said that while April\\'s relatively low 0.2% increase in the consumer price index was \"very welcome\" after several disappointing months, \"I would be far from willing to say that the concern was over.\" \\n\\n  Kelley, who joined the Fed in 1987, has generally voted with the majority at the policy-making Federal Open Market Committee meetings. \\n\\n  (END) Dow Jones Newswires\\n\\n  June 05, 1990 12:09 ET (16:09 GMT)\\n',\n",
       "       b'\\n\\n \\n\\n  Even though the steel industry as a whole will ship less in 1990 - about 80 million tons compared to 84 million in 1989 - the drop is considered relatively small.  Bethlehem Steel Corp. Chairman Walter F.  Williams noted in a Dow Jones interview that the industry shipped around 100 million tons in 1980 and two years later was only shipping 62 million tons. \\n\\n  \"The industry is more stable now,\" he said, as more efficient steelmakers have slashed capacity and costs.  He believes the industry will continue to ship around 80 million tons in the foreseeable future, with a possible low of 75 million tons and a high of about 83 million tons.  \"That\\'s a heck of a lot better than a swing of 40 million tons,\" he said. \\n\\n  As a result, although Wall Street views steel as a cyclical, unglamorous industry, he believes investors look more favorably on it than they did five years ago.  Still, the industry must do more.  \"My big fear is people thinking that the job is done.  This isn\\'t the time to get complacent,\" he said. \\n\\n  Williams said prices seem to have stabilized and are on the upswing as steelmakers try to pass on higher raw material and operating expenses, including labor costs associated with a four-year contract negotiated last year with United Steelworkers of America.  Bethlehem and other major steelmakers have upped the cost of key cold and hot rolled sheet effective with July 1 shipments. \\n\\n  \"I think we\\'ve sort of hit the bottom in pricing,\" he said. \\n\\n  One potentially huge market for steelmakers is rebuilding the country\\'s long-neglected infrastructure.  Williams believes that improvements to the country\\'s bridges, roads, airports, sewers and industrial plants are not only inevitable, but imperative for America to remain competitive. The problem is financing. \\n\\n  \"I\\'m saying it\\'s necessary and we need to find a way to do it,\" he said.  Some large industrial companies are already taking steps.  Williams noted that a large unnamed plate fabricator is booked through 1990 with orders to build tanks for a chemical company whose storage facilities had not been updated for years. \\n\\n  (END) Dow Jones Newswires\\n\\n  June 05, 1990 12:17 ET (16:17 GMT)\\n',\n",
       "       b'\\n\\n \\n\\n  BUENOS AIRES, Argentina -AP- Argentina has made a $40 million payment to foreign creditors, the first since foreign debt payments were suspended more than two years ago, government officials said today. \\n\\n  Carlos Carballo, undersecretary of economy, confirmed that payments had been renewed following \"arduous\" discussions in New York between Central Bank Vice President Javier Gonzalez Fraga and individual creditor banks. \\n\\n  The payment, ministry sources said, is considered \"a gesture of good will\" aimed at aiding Gonzalez Fraga in talks scheduled to began this week with a consortium of private creditors. \\n\\n  Argentina, the developing world\\'s third largest debtor, owes a total of $60 billion in loans plus unpaid interest that could reach $8.5 billion by the end of the year. \\n\\n  Ministry sources said the government hopes to negotiate an agreement to pay $300 million in overdue interest by the end of the year.  The creditors reportedly have sought payment of $500 million. \\n\\n  In the event negotiators reach agreement, Argentina would make another interest payment of between $70 million and $80 million, ministry sources said. \\n\\n  The 11-month-old government of President Carlos Menem is seeking debt forgiveness, approval for debt capitalization and new loans. \\n\\n  Negotiations with a steering committee that represents private banks, which are owed a total of $40 billion, are likely to be difficult.  Citibank, a unit of Citicorp, for example, reportedly has written off 40% of its loans to Argentina as uncollectable and resents having done so. \\n\\n  Nevertheless, the International Monetary Fund has indicated it approves of Menem\\'s policy of budget austerity and privatizations, and recently unblocked payment of a $1.7 billion loan granted last October and suspended five months later. \\n\\n  Carlos Carballo, undersecretary of economy, said $240 million of the unblocked funds \"have already entered the country\" and that a new installment of the same amount would be disbursed by early August. \\n\\n  Argentina is emerging from two bouts of hyperinflation and is mired in recession.  Inflation, which hit 96% in March, dropped to 11% in April but is expected to be slightly higher for May. \\n\\n  (END) Dow Jones Newswires\\n\\n  June 07, 1990 11:48 ET (15:48 GMT)\\n',\n",
       "       b'\\n\\n \\n\\n  LONDON -DJ- John Smith, the British Labour Party\\'s chief economic spokesman, says a Labour government\\'s first priority would be restoring the health of the country\\'s economy rather than pushing the full social spending program outlined in the party\\'s recent policy review. \\n\\n  In an interview with Dow Jones, Smith stressed Labour would take a \"pragmatic approach\" to managing the economy, with spending tailored to what the economy could bear. \\n\\n  And while the tools of that pragmatism would include credit controls - through French-style regulation of bank reserves - they wouldn\\'t involve a devaluation of the currency.  Smith emphasized Labour wants the stability entry into the full European Monetary System (EMS) would provide the pound and doesn\\'t foresee the need to tinker with its value once inside the EMS. \\n\\n  \"We may have to be patient about some our social ambitions until we get the economy on a sound footing,\" Smith said.  \"I don\\'t want to initiate spending programs that then have to be cut back.\" \\n\\n  Labour \"now takes control of inflation extremely seriously,\" Smith says, and would seek to keep it at \"roughly the average of European Community countries\" as part of its efforts to improve effect on Britain\\'s competitiveness. However, he called Prime Minister Margaret Thatcher\\'s call for zero inflation \"pie in the sky.\" \\n\\n  Smith confirmed Labour\\'s support for taking the pound into the exchange rate mechanism (ERM) of the EMS to help ensure the country\\'s economic recovery.  And while he called a devaluation of an ERM-anchored pound undesirable, he wasn\\'t prepared to say at what level sterling should enter. \\n\\n  (END) Dow Jones Newswires\\n\\n  June 07, 1990 11:56 ET (15:56 GMT)\\n',\n",
       "       b'\\n\\n \\n\\n  ALLENTOWN, Pa. -DJ- Air Products & Chemicals Inc. said it increased U.S.  prices for various industrial and specialty gas products. \\n\\n  Effective July 1, the unit price portion of the schedules for liquid and bulk oxygen and nitrogen supplied to merchant and government accounts in Arizona, California and Nevada will increase by 7 pc, the company said in a news release. Customers will experience increases of 7 to 20 pc depending on their current price.  Prices on liquid hydrogen and cylinder and specialty gases will also be increased.  The revisions are necessary to cover higher production costs, principally electric power, at plants serving these states. \\n\\n  Also, effective Aug. 1, elsewhere in the U.S., customers whose prices are below existing price schedules for liquid and bulk oxygen, nitrogen and argon will have those prices increased 7 to 10 pc.  Cylinder and specialty gases will also be increased on this date.  These changes are necessary to restore prices to levels that reflect the current costs of production and distribution, and to sustain adequate returns on investment, Air Products said. \\n\\n  Air Products said it last increased U.S. liquid and bulk oxygen, nitrogen, and argon prices in October 1989, and cylinder and specialty gas prices in December 1989. \\n\\n  (END) Dow Jones Newswires\\n\\n  June 08, 1990 12:38 ET (16:38 GMT)\\n',\n",
       "       b'\\n\\n \\n\\n  BASEL -DJ- Martha Seger, a governor of the Federal Reserve Board, said she sees a chance that U.S. inflation rates may \"turn out to be a little bit better\" by the end of 1990. \\n\\n  Seger, in an interview with Dow Jones, suggested that the year-to-year U.S. inflation rate from December 1989 to December 1990 may come in between 4% and 4.5%. \\n\\n  \"That\\'s about what it has been in the last couple of years,\" she said. \\n\\n  She also said she would like to see the yen appreciate against the dollar in order to help reduce the U.S. trade gap with Japan. She didn\\'t, however, specify a particular level that would be desirable for the Japanese currency against the dollar. \\n\\n  Meanwhile, she said that the high inflation rates seen early this year were distorted by unusual and temporary influences, such as the impact of bad weather on prices of fuel oil and fruits and vegetables. \\n\\n  \"I never believed we actually had inflation rates earlier this year of 8% to 8.5%,\" Seger said. \"A lot of people overreacted to those numbers, because they took them at face value.\" \\n\\n  She said that the most recent figures \"look more reasonable.\" \\n\\n  \"My feeling is that by the time we get to the end of this year, you\\'ll see our inflation numbers aren\\'t that much worse than last year, and in fact, they may even turn out to be a little bit better for the whole year,\" Seger said. \\n\\n  The Fed governor, when asked about recent unemployment figures, said the lastest non-farm payroll data were \"weak\" when census-related hiring is excluded. \\n\\n  \"With regard to a soft landing (for the U.S. economy), I think the jury is still out,\" she said. \"I don\\'t think we know yet whether we\\'re going to accomplish that.\" \\n\\n  Asked about the implications for the Fed\\'s monetary policy of recent unemployment figures, Seger said, \"You need to look at a whole series\" of statistics.  \"A lot of people in the markets take an oversimplified view of how we make policy,\" she said. \\n\\n  \"I don\\'t think the last two months unemployment numbers by themselves would cause a change in policy,\" she said. \"I don\\'t think that\\'s adequate,\" adding that \"you need to look at a lot of things.\" \\n\\n  (END) Dow Jones Newswires\\n\\n  June 11, 1990 08:47 ET (12:47 GMT)\\n',\n",
       "       b'\\n\\n \\n\\n  WASHINGTON -DJ- Federal Reserve Board Chairman Alan Greenspan warned that although fine-tuning of inventories can help avoid recession, under certain conditions such fine-tuning can lead to higher inflation. \\n\\n  \"The weakness in (U.S.) industrial activity bottomed around the turn of the year.  And, although the performance since can scarcely be described as robust, it nonetheless has markedly assuaged the concerns that recessionary forces were mounting for the American economy as a whole,\" Greenspan said. \\n\\n  \"What went right with the economy?...There is at least presumptive evidence that a major reason, perhaps the key reason, is the marked change in inventory behavior on the part of purchasing managers in manufacturing and elsewhere in the U.S.  economy.\" \\n\\n  Greenspan made his remarks to the General Assembly of the Federation of German Industries in Bonn, West Germany, from prepared text released here in advance. \\n\\n  \"One consequence of the squeezing down of inventory positions...is that if demand were to pick up and if evidence of worldwide tightening in goods markets were to emerge, including episodes of shortages, then lead times are likely to begin to stretch out,\" Greenspan said. \\n\\n  \"This, in turn, is likely to lead to a classic acceleration of inventory investment experienced many times in the past. While such a set of events is positive as far as the expansion phase of economic activity is concerned, given capacity constraints in a number of product lines, it also carries with it unfavorable implications for inflationary pressures,\" he said. \\n\\n  Greenspan said that runaway inflation is the \"surest way to have an economy move to recession.\" \\n\\n  \"U.S. monetary authorities, and those in the principal industrial countries, are aware of the dangers and risks of inflation and the high costs of correcting inflationary excesses. \\n\\n  \"It, therefore, is essential that the policies that we pursue, not only in the monetary area, but also in the fiscal and trade spheres, are directed to prevent these inflationary forces from establishing themselves,\" Greenspan said. \\n\\n  \"We have made considerable progress in achieving this objective, and it is in our power to further consolidate this progress,\" he said. \\n\\n  (END) Dow Jones Newswires\\n\\n  June 12, 1990 08:14 ET (12:14 GMT)\\n'],\n",
       "      dtype=object)"
      ]
     },
     "execution_count": 23,
     "metadata": {},
     "output_type": "execute_result"
    }
   ],
   "source": [
    "final_df.body[:10].values"
   ]
  },
  {
   "cell_type": "code",
   "execution_count": 6,
   "id": "b138e13d-41e4-47cf-932c-91fac9b296d5",
   "metadata": {},
   "outputs": [],
   "source": [
    "for i,line in enumerate(narratives):\n",
    "    with open(f'./pilot_5_data/{i}.txt', 'wb') as f:\n",
    "        f.write(f\"{headlines[i]} \\n\\n\".encode())\n",
    "        f.write(line)"
   ]
  },
  {
   "cell_type": "code",
   "execution_count": 7,
   "id": "a727df47-906e-449d-b0e4-272574c76681",
   "metadata": {},
   "outputs": [
    {
     "name": "stdout",
     "output_type": "stream",
     "text": [
      "89290\n"
     ]
    }
   ],
   "source": [
    "print(len(df))"
   ]
  },
  {
   "cell_type": "code",
   "execution_count": null,
   "id": "b01600f0-8169-4e52-bfcf-b66e42669841",
   "metadata": {},
   "outputs": [],
   "source": []
  }
 ],
 "metadata": {
  "kernelspec": {
   "display_name": "Python 3 (ipykernel)",
   "language": "python",
   "name": "python3"
  },
  "language_info": {
   "codemirror_mode": {
    "name": "ipython",
    "version": 3
   },
   "file_extension": ".py",
   "mimetype": "text/x-python",
   "name": "python",
   "nbconvert_exporter": "python",
   "pygments_lexer": "ipython3",
   "version": "3.9.16"
  }
 },
 "nbformat": 4,
 "nbformat_minor": 5
}
